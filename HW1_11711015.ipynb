{
 "cells": [
  {
   "cell_type": "code",
   "execution_count": null,
   "metadata": {},
   "outputs": [],
   "source": [
    "import pandas as pd   "
   ]
  },
  {
   "cell_type": "code",
   "execution_count": null,
   "metadata": {},
   "outputs": [],
   "source": [
    "path = 'HW1data.csv'    \n",
    "df = pd.read_csv(path, encoding='cp1252')"
   ]
  },
  {
   "cell_type": "code",
   "execution_count": null,
   "metadata": {},
   "outputs": [],
   "source": [
    "na = df.isnull().any()\n",
    "na"
   ]
  },
  {
   "cell_type": "code",
   "execution_count": null,
   "metadata": {},
   "outputs": [],
   "source": [
    "tmp = df[['PatientId', 'Age', 'Gender', 'Neighbourhood']]\n",
    "# drop row is all na\n",
    "tmp.dropna(axis=0, how='all')\n",
    "\n",
    "not_null = tmp.notnull().all(axis=1)\n",
    "exist_null = tmp.isnull().any(axis=1)\n",
    "\n",
    "# df not null\n",
    "df1 = tmp[not_null]\n",
    "# df to complement\n",
    "df2 = tmp[exist_null]\n",
    "\n",
    "# drop row patient id is na\n",
    "df2 = df2.dropna(axis=0, subset=['PatientId'])\n",
    "\n",
    "# patient_id : [age, gender, neighbourhood]\n",
    "completion_dict = {}\n",
    "for index, row in df1.iterrows():\n",
    "    completion_dict[row[0]] = [row[1], row[2], row[3]]\n",
    "print(\"completion dict len is\", len(completion_dict))\n",
    "# complement\n",
    "df = df.dropna(axis=0, subset=[\"PatientId\", \"ScheduledDay\", \"AppointmentDay\", \"SMS_received\", \"No-show\"])\n",
    "for index, row in df.iterrows():\n",
    "    if pd.isnull(row[1]):\n",
    "        df.at[index, 'Age'] = completion_dict[row[0]][0]\n",
    "    if pd.isnull(row[2]):\n",
    "        df.at[index, 'Gender'] = completion_dict[row[0]][1]\n",
    "    if pd.isnull(row[3]):\n",
    "        df.at[index, 'Neighbourhood'] = completion_dict[row[0]][2]\n",
    "df\n"
   ]
  },
  {
   "cell_type": "code",
   "execution_count": null,
   "metadata": {},
   "outputs": [],
   "source": [
    "method = {'Scholarship': 0, 'Hipertension': 0, 'Diabetes': 0, 'Alcoholism': 0, 'Handcap': 0}\n",
    "df = pd.DataFrame.fillna(df, method)\n",
    "df"
   ]
  },
  {
   "cell_type": "code",
   "execution_count": null,
   "metadata": {},
   "outputs": [],
   "source": [
    "df.drop(axis=1, labels=['PatientId', 'AppointmentID'])"
   ]
  },
  {
   "cell_type": "code",
   "execution_count": null,
   "metadata": {},
   "outputs": [],
   "source": [
    "df = df[df['Age'] > 0]\n",
    "df = df[df['Age'] < 150]\n",
    "df"
   ]
  },
  {
   "cell_type": "code",
   "execution_count": null,
   "metadata": {},
   "outputs": [],
   "source": [
    "def cal_delay(x, y):\n",
    "    return (pd.to_datetime(x) - pd.to_datetime(y)) / pd.Timedelta(1, 'D')\n",
    "\n",
    "df['delay'] = df.apply(lambda x : cal_delay(x['ScheduledDay'], x['AppointmentDay']), axis=1)\n",
    "df"
   ]
  },
  {
   "cell_type": "code",
   "execution_count": null,
   "metadata": {},
   "outputs": [],
   "source": [
    "df['SDay_DOW'] = df.apply(lambda x : pd.to_datetime(x['ScheduledDay']).day_of_week + 1, axis=1)\n",
    "df['ADay_DOW'] = df.apply(lambda x : pd.to_datetime(x['AppointmentDay']).day_of_week + 1, axis=1)\n",
    "df"
   ]
  },
  {
   "cell_type": "code",
   "execution_count": null,
   "metadata": {},
   "outputs": [],
   "source": [
    "df.drop(['ScheduledDay', 'AppointmentDay'], axis=1)\n",
    "df"
   ]
  },
  {
   "cell_type": "code",
   "execution_count": null,
   "metadata": {},
   "outputs": [],
   "source": []
  },
  {
   "cell_type": "code",
   "execution_count": null,
   "metadata": {},
   "outputs": [],
   "source": []
  },
  {
   "cell_type": "code",
   "execution_count": null,
   "metadata": {},
   "outputs": [],
   "source": []
  },
  {
   "cell_type": "code",
   "execution_count": null,
   "metadata": {},
   "outputs": [],
   "source": []
  },
  {
   "cell_type": "code",
   "execution_count": null,
   "metadata": {},
   "outputs": [],
   "source": []
  },
  {
   "cell_type": "code",
   "execution_count": null,
   "metadata": {},
   "outputs": [],
   "source": []
  },
  {
   "cell_type": "code",
   "execution_count": null,
   "metadata": {},
   "outputs": [],
   "source": []
  }
 ],
 "metadata": {
  "interpreter": {
   "hash": "9b4a4f91fe92bcf79a620c71c2022926a82b74ba3526cea23b40c1437f9f8de4"
  },
  "kernelspec": {
   "display_name": "Python 3.7.2 64-bit",
   "language": "python",
   "name": "python3"
  },
  "language_info": {
   "codemirror_mode": {
    "name": "ipython",
    "version": 3
   },
   "file_extension": ".py",
   "mimetype": "text/x-python",
   "name": "python",
   "nbconvert_exporter": "python",
   "pygments_lexer": "ipython3",
   "version": "3.7.2"
  },
  "orig_nbformat": 4
 },
 "nbformat": 4,
 "nbformat_minor": 2
}
